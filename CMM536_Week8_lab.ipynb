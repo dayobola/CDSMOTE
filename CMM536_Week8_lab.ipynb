{
  "nbformat": 4,
  "nbformat_minor": 0,
  "metadata": {
    "coursera": {
      "course_slug": "neural-networks-deep-learning",
      "graded_item_id": "XHpfv",
      "launcher_item_id": "Zh0CU"
    },
    "hide_input": false,
    "kernelspec": {
      "display_name": "Python 3",
      "language": "python",
      "name": "python3"
    },
    "language_info": {
      "codemirror_mode": {
        "name": "ipython",
        "version": 3
      },
      "file_extension": ".py",
      "mimetype": "text/x-python",
      "name": "python",
      "nbconvert_exporter": "python",
      "pygments_lexer": "ipython3",
      "version": "3.7.3"
    },
    "varInspector": {
      "cols": {
        "lenName": 16,
        "lenType": 16,
        "lenVar": 40
      },
      "kernels_config": {
        "python": {
          "delete_cmd_postfix": "",
          "delete_cmd_prefix": "del ",
          "library": "var_list.py",
          "varRefreshCmd": "print(var_dic_list())"
        },
        "r": {
          "delete_cmd_postfix": ") ",
          "delete_cmd_prefix": "rm(",
          "library": "var_list.r",
          "varRefreshCmd": "cat(var_dic_list()) "
        }
      },
      "types_to_exclude": [
        "module",
        "function",
        "builtin_function_or_method",
        "instance",
        "_Feature"
      ],
      "window_display": false
    },
    "colab": {
      "name": "CMM536_Week8_lab.ipynb",
      "provenance": [],
      "collapsed_sections": [
        "rwnZSuzwIg-s",
        "05TKA7WLIg-4",
        "2mFFjXZpIg-7",
        "ELFn1cilIg--",
        "26QluFPqIg_T",
        "5EmopfkEIg_X",
        "cUdqvY_VIg_c",
        "TGMW-7--Ig_e",
        "cyvUxOm-Ig_z"
      ],
      "include_colab_link": true
    }
  },
  "cells": [
    {
      "cell_type": "markdown",
      "metadata": {
        "id": "view-in-github",
        "colab_type": "text"
      },
      "source": [
        "<a href=\"https://colab.research.google.com/github/dayobola/CDSMOTE/blob/master/CMM536_Week8_lab.ipynb\" target=\"_parent\"><img src=\"https://colab.research.google.com/assets/colab-badge.svg\" alt=\"Open In Colab\"/></a>"
      ]
    },
    {
      "cell_type": "markdown",
      "metadata": {
        "id": "F4BIdRkyIg9y"
      },
      "source": [
        "# Week 8 Laboratory"
      ]
    },
    {
      "cell_type": "markdown",
      "metadata": {
        "id": "_zs1d5wAIg-G"
      },
      "source": [
        "In this activity, you will implement an NN by coding the basic necessary steps."
      ]
    },
    {
      "cell_type": "markdown",
      "metadata": {
        "id": "g9BqFzjoIg-J"
      },
      "source": [
        "## Preparing Some Building Blocks"
      ]
    },
    {
      "cell_type": "markdown",
      "metadata": {
        "id": "Qx44jux3Ig-M"
      },
      "source": [
        "### Building the sigmoid function"
      ]
    },
    {
      "cell_type": "markdown",
      "metadata": {
        "id": "nw8ETvdiIg-O"
      },
      "source": [
        "There are two options to do exponent in Python: `np.exp()` and `math.exp()` You will use the second one, although the first one is more useful in \"real life\". **Do you know why?** Because of the Mathematical formular\n"
      ]
    },
    {
      "cell_type": "markdown",
      "metadata": {
        "id": "to-_MRF3Ig-S"
      },
      "source": [
        "Remember that $sigmoid(x) = \\frac{1}{1+e^{-x}}$ is also known as the logistic function."
      ]
    },
    {
      "cell_type": "code",
      "metadata": {
        "id": "a5PnTLR3Ig-X"
      },
      "source": [
        "## Use this cell to define the sigmoid function\n",
        "import math\n",
        "def basic_sigmoid(z):\n",
        "    \"\"\"\n",
        "    Compute sigmoid of z\n",
        "\n",
        "    Input:\n",
        "    z: A number\n",
        "\n",
        "    Output:\n",
        "    s: sigmoid(z)\n",
        "    \"\"\"\n",
        "    \n",
        "    ### START CODE HERE ### (1 line of code)\n",
        "    z=3\n",
        "    ### END CODE HERE ###\n",
        "    \n",
        "    return s"
      ],
      "execution_count": 6,
      "outputs": []
    },
    {
      "cell_type": "markdown",
      "metadata": {
        "id": "kvcNh17zIg-Y"
      },
      "source": [
        "Now in the following cell run the sigmoid function for $z=3$"
      ]
    },
    {
      "cell_type": "code",
      "metadata": {
        "id": "VGyjaGZcIg-a",
        "outputId": "1e71b01e-b7fe-4310-ba92-6325c6d61aaa",
        "colab": {
          "base_uri": "https://localhost:8080/",
          "height": 249
        }
      },
      "source": [
        "basic_sigmoid(3)"
      ],
      "execution_count": 7,
      "outputs": [
        {
          "output_type": "error",
          "ename": "NameError",
          "evalue": "ignored",
          "traceback": [
            "\u001b[0;31m---------------------------------------------------------------------------\u001b[0m",
            "\u001b[0;31mNameError\u001b[0m                                 Traceback (most recent call last)",
            "\u001b[0;32m<ipython-input-7-165f14521f78>\u001b[0m in \u001b[0;36m<module>\u001b[0;34m()\u001b[0m\n\u001b[0;32m----> 1\u001b[0;31m \u001b[0mbasic_sigmoid\u001b[0m\u001b[0;34m(\u001b[0m\u001b[0;36m3\u001b[0m\u001b[0;34m)\u001b[0m\u001b[0;34m\u001b[0m\u001b[0;34m\u001b[0m\u001b[0m\n\u001b[0m",
            "\u001b[0;32m<ipython-input-6-7d81b92185cc>\u001b[0m in \u001b[0;36mbasic_sigmoid\u001b[0;34m(z)\u001b[0m\n\u001b[1;32m     16\u001b[0m     \u001b[0;31m### END CODE HERE ###\u001b[0m\u001b[0;34m\u001b[0m\u001b[0;34m\u001b[0m\u001b[0;34m\u001b[0m\u001b[0m\n\u001b[1;32m     17\u001b[0m \u001b[0;34m\u001b[0m\u001b[0m\n\u001b[0;32m---> 18\u001b[0;31m     \u001b[0;32mreturn\u001b[0m \u001b[0ms\u001b[0m\u001b[0;34m\u001b[0m\u001b[0;34m\u001b[0m\u001b[0m\n\u001b[0m",
            "\u001b[0;31mNameError\u001b[0m: name 's' is not defined"
          ]
        }
      ]
    },
    {
      "cell_type": "markdown",
      "metadata": {
        "id": "5aa2kEwLIg-c"
      },
      "source": [
        "You should obtain 0.9525741268224334."
      ]
    },
    {
      "cell_type": "markdown",
      "metadata": {
        "id": "Zy5hfTRQIg-c"
      },
      "source": [
        "Actually, we rarely use the `math` library in deep learning because the inputs of the functions are real numbers. In deep learning we mostly use matrices and vectors. This is why numpy is more useful. "
      ]
    },
    {
      "cell_type": "code",
      "metadata": {
        "id": "CZ1gP7qEIg-i",
        "outputId": "98d91c0f-0968-463b-e670-2db2d3a35953",
        "colab": {
          "base_uri": "https://localhost:8080/",
          "height": 283
        }
      },
      "source": [
        "## One reason why we use \"numpy\" instead of \"math\" in Deep Learning\n",
        "x = [1, 2, 3]\n",
        "basic_sigmoid(x) # you will see this give an error when you run it, because x is a vector."
      ],
      "execution_count": 8,
      "outputs": [
        {
          "output_type": "error",
          "ename": "NameError",
          "evalue": "ignored",
          "traceback": [
            "\u001b[0;31m---------------------------------------------------------------------------\u001b[0m",
            "\u001b[0;31mNameError\u001b[0m                                 Traceback (most recent call last)",
            "\u001b[0;32m<ipython-input-8-aaf42a89a8d2>\u001b[0m in \u001b[0;36m<module>\u001b[0;34m()\u001b[0m\n\u001b[1;32m      1\u001b[0m \u001b[0;31m## One reason why we use \"numpy\" instead of \"math\" in Deep Learning\u001b[0m\u001b[0;34m\u001b[0m\u001b[0;34m\u001b[0m\u001b[0;34m\u001b[0m\u001b[0m\n\u001b[1;32m      2\u001b[0m \u001b[0mx\u001b[0m \u001b[0;34m=\u001b[0m \u001b[0;34m[\u001b[0m\u001b[0;36m1\u001b[0m\u001b[0;34m,\u001b[0m \u001b[0;36m2\u001b[0m\u001b[0;34m,\u001b[0m \u001b[0;36m3\u001b[0m\u001b[0;34m]\u001b[0m\u001b[0;34m\u001b[0m\u001b[0;34m\u001b[0m\u001b[0m\n\u001b[0;32m----> 3\u001b[0;31m \u001b[0mbasic_sigmoid\u001b[0m\u001b[0;34m(\u001b[0m\u001b[0mx\u001b[0m\u001b[0;34m)\u001b[0m \u001b[0;31m# you will see this give an error when you run it, because x is a vector.\u001b[0m\u001b[0;34m\u001b[0m\u001b[0;34m\u001b[0m\u001b[0m\n\u001b[0m",
            "\u001b[0;32m<ipython-input-6-7d81b92185cc>\u001b[0m in \u001b[0;36mbasic_sigmoid\u001b[0;34m(z)\u001b[0m\n\u001b[1;32m     16\u001b[0m     \u001b[0;31m### END CODE HERE ###\u001b[0m\u001b[0;34m\u001b[0m\u001b[0;34m\u001b[0m\u001b[0;34m\u001b[0m\u001b[0m\n\u001b[1;32m     17\u001b[0m \u001b[0;34m\u001b[0m\u001b[0m\n\u001b[0;32m---> 18\u001b[0;31m     \u001b[0;32mreturn\u001b[0m \u001b[0ms\u001b[0m\u001b[0;34m\u001b[0m\u001b[0;34m\u001b[0m\u001b[0m\n\u001b[0m",
            "\u001b[0;31mNameError\u001b[0m: name 's' is not defined"
          ]
        }
      ]
    },
    {
      "cell_type": "markdown",
      "metadata": {
        "id": "QL4gkDUJIg-k"
      },
      "source": [
        "In fact, if $ x = (x_1, x_2, ..., x_n)$ is a row vector, then $np.exp(x)$ will apply the exponential function to every element of x. The output will thus be: $np.exp(x) = (e^{x_1}, e^{x_2}, ..., e^{x_n})$"
      ]
    },
    {
      "cell_type": "code",
      "metadata": {
        "id": "3r-aaAymIg-l",
        "outputId": "e0eecaca-4a76-481b-89dd-3b9739832381",
        "colab": {
          "base_uri": "https://localhost:8080/"
        }
      },
      "source": [
        "import numpy as np\n",
        "# example of np.exp\n",
        "x = np.array([1, 2, 3])\n",
        "print(np.exp(x)) # result is (exp(1), exp(2), exp(3))"
      ],
      "execution_count": 9,
      "outputs": [
        {
          "output_type": "stream",
          "text": [
            "[ 2.71828183  7.3890561  20.08553692]\n"
          ],
          "name": "stdout"
        }
      ]
    },
    {
      "cell_type": "markdown",
      "metadata": {
        "id": "p2LvdWwHIg-m"
      },
      "source": [
        "Furthermore, if x is a vector, then a Python operation such as $s = x + 3$ or $s = \\frac{1}{x}$ will output s as a vector of the same size as x."
      ]
    },
    {
      "cell_type": "markdown",
      "metadata": {
        "id": "Pgjrf9dXIg-n"
      },
      "source": [
        "Now you will implement the sigmoid function using `numpy`. \n",
        "\n",
        "`x` could now be either a real number, a vector, or a matrix. In case it is a vector, it will look as follows:\n",
        "$$ \\text{For } x \\in \\mathbb{R}^n \\text{,     } sigmoid(x) = sigmoid\\begin{pmatrix}\n",
        "    x_1  \\\\\n",
        "    x_2  \\\\\n",
        "    ...  \\\\\n",
        "    x_n  \\\\\n",
        "\\end{pmatrix} = \\begin{pmatrix}\n",
        "    \\frac{1}{1+e^{-x_1}}  \\\\\n",
        "    \\frac{1}{1+e^{-x_2}}  \\\\\n",
        "    ...  \\\\\n",
        "    \\frac{1}{1+e^{-x_n}}  \\\\\n",
        "\\end{pmatrix}$$"
      ]
    },
    {
      "cell_type": "code",
      "metadata": {
        "id": "YyMnFXbMIg-o"
      },
      "source": [
        "## Use this cell to implement the \"vectorised\" version of the sigmoid function\n",
        "def sigmoid(z):\n",
        "    \"\"\"\n",
        "    Compute the sigmoid of number/vector/matrix z\n",
        "\n",
        "    Input:\n",
        "    z: A number or numpy array\n",
        "    \n",
        "    Output:\n",
        "    s: sigmoid(z)\n",
        "    \"\"\"\n",
        "    \n",
        "    ### START CODE HERE ### (1 line of code)\n",
        "    \n",
        "    ### END CODE HERE ###\n",
        "    \n",
        "    return s"
      ],
      "execution_count": 11,
      "outputs": []
    },
    {
      "cell_type": "markdown",
      "metadata": {
        "id": "VA915ktuIg-p"
      },
      "source": [
        "Now input the numpy array `[1,2,3]` to your function and print the result"
      ]
    },
    {
      "cell_type": "code",
      "metadata": {
        "id": "8stsG2ThIg-r",
        "outputId": "58276593-7dd0-4068-c341-8a107ed5696b",
        "colab": {
          "base_uri": "https://localhost:8080/",
          "height": 266
        }
      },
      "source": [
        "x = np.array([1, 2, 3])\n",
        "sigmoid(x)"
      ],
      "execution_count": 12,
      "outputs": [
        {
          "output_type": "error",
          "ename": "NameError",
          "evalue": "ignored",
          "traceback": [
            "\u001b[0;31m---------------------------------------------------------------------------\u001b[0m",
            "\u001b[0;31mNameError\u001b[0m                                 Traceback (most recent call last)",
            "\u001b[0;32m<ipython-input-12-b94c5470c3e0>\u001b[0m in \u001b[0;36m<module>\u001b[0;34m()\u001b[0m\n\u001b[1;32m      1\u001b[0m \u001b[0mx\u001b[0m \u001b[0;34m=\u001b[0m \u001b[0mnp\u001b[0m\u001b[0;34m.\u001b[0m\u001b[0marray\u001b[0m\u001b[0;34m(\u001b[0m\u001b[0;34m[\u001b[0m\u001b[0;36m1\u001b[0m\u001b[0;34m,\u001b[0m \u001b[0;36m2\u001b[0m\u001b[0;34m,\u001b[0m \u001b[0;36m3\u001b[0m\u001b[0;34m]\u001b[0m\u001b[0;34m)\u001b[0m\u001b[0;34m\u001b[0m\u001b[0;34m\u001b[0m\u001b[0m\n\u001b[0;32m----> 2\u001b[0;31m \u001b[0msigmoid\u001b[0m\u001b[0;34m(\u001b[0m\u001b[0mx\u001b[0m\u001b[0;34m)\u001b[0m\u001b[0;34m\u001b[0m\u001b[0;34m\u001b[0m\u001b[0m\n\u001b[0m",
            "\u001b[0;32m<ipython-input-11-2c603184e81e>\u001b[0m in \u001b[0;36msigmoid\u001b[0;34m(z)\u001b[0m\n\u001b[1;32m     15\u001b[0m     \u001b[0;31m### END CODE HERE ###\u001b[0m\u001b[0;34m\u001b[0m\u001b[0;34m\u001b[0m\u001b[0;34m\u001b[0m\u001b[0m\n\u001b[1;32m     16\u001b[0m \u001b[0;34m\u001b[0m\u001b[0m\n\u001b[0;32m---> 17\u001b[0;31m     \u001b[0;32mreturn\u001b[0m \u001b[0ms\u001b[0m\u001b[0;34m\u001b[0m\u001b[0;34m\u001b[0m\u001b[0m\n\u001b[0m",
            "\u001b[0;31mNameError\u001b[0m: name 's' is not defined"
          ]
        }
      ]
    },
    {
      "cell_type": "markdown",
      "metadata": {
        "id": "F0DbSQo0Ig-s"
      },
      "source": [
        "**Expected Output**: array([ 0.73105858,  0.88079708,  0.95257413])"
      ]
    },
    {
      "cell_type": "markdown",
      "metadata": {
        "id": "rwnZSuzwIg-s"
      },
      "source": [
        "### Sigmoid Gradient"
      ]
    },
    {
      "cell_type": "markdown",
      "metadata": {
        "id": "JQdwoh0kIg-t"
      },
      "source": [
        "As you've seen in the lecture, you will need to compute gradients to optimise the calculation of the loss function, which will be the one that perform backpropagation to calculate the correct weights and biases."
      ]
    },
    {
      "cell_type": "markdown",
      "metadata": {
        "id": "jDUWpVkiIg-u"
      },
      "source": [
        "**Exercise**: Implement a function called `sigmoid_grad()` to compute the gradient of the sigmoid function with respect to its input z."
      ]
    },
    {
      "cell_type": "markdown",
      "metadata": {
        "id": "PA-Kt9IeIg-v"
      },
      "source": [
        "The formula is: $$sigmoid\\_derivative(x) = \\sigma'(x) = \\sigma(x) (1 - \\sigma(x))$$"
      ]
    },
    {
      "cell_type": "markdown",
      "metadata": {
        "id": "q1GijKngIg-y"
      },
      "source": [
        "**Hint**: You need to code this function in two steps:\n",
        "1. Set s to be the sigmoid of z. You might find your sigmoid(z) function useful.\n",
        "2. Compute $\\sigma(x) = s(1-s)$"
      ]
    },
    {
      "cell_type": "code",
      "metadata": {
        "id": "ALo44CaiIg-z"
      },
      "source": [
        "## Use this cell to define the sigmoid_derivative function\n",
        "\n",
        "def sigmoid_derivative(x):\n",
        "    \"\"\"\n",
        "    Compute the gradient (also called the slope or derivative) of the sigmoid function with respect to its input z.\n",
        "    You can store the output of the sigmoid function into variables and then use it to calculate the gradient.\n",
        "    \n",
        "    Arguments:\n",
        "    z: A number or numpy array\n",
        "\n",
        "    Return:\n",
        "    ds: Your computed gradient.\n",
        "    \"\"\"\n",
        "    \n",
        "    ### START CODE HERE ### (2 lines of code)\n",
        "\n",
        "    \n",
        "    ### END CODE HERE ###\n",
        "    \n",
        "    return ds"
      ],
      "execution_count": null,
      "outputs": []
    },
    {
      "cell_type": "markdown",
      "metadata": {
        "id": "_NmtLpsaIg-2"
      },
      "source": [
        "Now test your function with the same numpy array value as before. You should now get different values!"
      ]
    },
    {
      "cell_type": "code",
      "metadata": {
        "id": "LD2BPe9aIg-2"
      },
      "source": [
        "x = np.array([1, 2, 3])\n",
        "print (\"sigmoid_derivative(x) = \" + str(sigmoid_derivative(x)))"
      ],
      "execution_count": null,
      "outputs": []
    },
    {
      "cell_type": "markdown",
      "metadata": {
        "id": "JAUWzr-5Ig-3"
      },
      "source": [
        "**Expected Output**: np.array([ 0.19661193  0.10499359  0.04517666])"
      ]
    },
    {
      "cell_type": "markdown",
      "metadata": {
        "id": "05TKA7WLIg-4"
      },
      "source": [
        "### Normalising numpy arrays with numpy"
      ]
    },
    {
      "cell_type": "markdown",
      "metadata": {
        "id": "vmXcgy28Ig-4"
      },
      "source": [
        "Now we will design a normalisation function which is fitted for purpose and that is capable of normalising **all** your numpy array per row effectively."
      ]
    },
    {
      "cell_type": "code",
      "metadata": {
        "id": "kwu0Wh4xIg-4"
      },
      "source": [
        "## Use this cell to implement a function that normalises a numpy array by row\n",
        "def normaliseRows(x):\n",
        "    \"\"\"\n",
        "    Implement a function that normalises each row of the matrix x (to have unit length).\n",
        "    \n",
        "    Argument:\n",
        "    x: A numpy matrix of shape (n, m)\n",
        "    \n",
        "    Returns:\n",
        "    x: The normalised numpy matrix by row.\n",
        "    \"\"\"\n",
        "    \n",
        "    ### START CODE HERE ### (2 lines of code)\n",
        "    # Compute x_n as the norm 2 of x. Use np.linalg.norm(..., ord = 2, axis = ..., keepdims = True)\n",
        "\n",
        "    # Divide x by its norm.\n",
        "\n",
        "    ### END CODE HERE ###\n",
        "\n",
        "    return x"
      ],
      "execution_count": null,
      "outputs": []
    },
    {
      "cell_type": "markdown",
      "metadata": {
        "id": "C2b6UJ7pIg-5"
      },
      "source": [
        "No test your function using a `numpy array` with two vectors inside: [1,2,3] and [4,5,6]"
      ]
    },
    {
      "cell_type": "code",
      "metadata": {
        "id": "OYW1aYf_Ig-5"
      },
      "source": [
        "x = np.array([\n",
        "    [1, 2, 3],\n",
        "    [4, 5, 6]])\n",
        "print(\"normaliseRows(x) = \" + str(normaliseRows(x)))"
      ],
      "execution_count": null,
      "outputs": []
    },
    {
      "cell_type": "markdown",
      "metadata": {
        "id": "lt46q_pGIg-6"
      },
      "source": [
        "**Expected Output**: [[0.26726124 0.53452248 0.80178373],[0.45584231 0.56980288 0.68376346]]"
      ]
    },
    {
      "cell_type": "markdown",
      "metadata": {
        "id": "nlOcwwDVIg-7"
      },
      "source": [
        "## Loading the Dataset"
      ]
    },
    {
      "cell_type": "markdown",
      "metadata": {
        "id": "2mFFjXZpIg-7"
      },
      "source": [
        "### Importing the Necessary Packages"
      ]
    },
    {
      "cell_type": "markdown",
      "metadata": {
        "id": "mLPEpCTXIg-7"
      },
      "source": [
        "- matplotlib\n",
        "- PIL\n",
        "- scipy\n",
        "- [h5py](http://www.h5py.org): A common package to interact with a dataset that is stored on an H5 file.\n",
        "- `lr_utils.py`: It contains a command to download the dataset easily. **Download lr_utils.py from moodle and upload it using the following cell.**"
      ]
    },
    {
      "cell_type": "code",
      "metadata": {
        "id": "SyxCi_yyJEbl"
      },
      "source": [
        "# use this cell to upload lrutils and the train/test files\r\n",
        "from google.colab import files\r\n",
        "uploaded = files.upload()"
      ],
      "execution_count": null,
      "outputs": []
    },
    {
      "cell_type": "code",
      "metadata": {
        "id": "eMEb9D7bIg-9"
      },
      "source": [
        "import matplotlib.pyplot as plt\n",
        "import h5py\n",
        "import scipy\n",
        "from PIL import Image\n",
        "from scipy import ndimage\n",
        "from lr_utils import load_dataset\n",
        "\n",
        "# you can use this line to show plots in the first try\n",
        "%matplotlib inline  "
      ],
      "execution_count": null,
      "outputs": []
    },
    {
      "cell_type": "markdown",
      "metadata": {
        "collapsed": true,
        "id": "ELFn1cilIg--"
      },
      "source": [
        "### Image loading and preprocessing"
      ]
    },
    {
      "cell_type": "markdown",
      "metadata": {
        "collapsed": true,
        "id": "kmtrFBQrIg-_"
      },
      "source": [
        "**Problem Statement**: You are given a dataset `data.h5` containing:\n",
        "    - a training set of m_train images labeled as cat (y=1) or non-cat (y=0)\n",
        "    - a test set of m_test images labeled as cat or non-cat\n",
        "    - each image is of shape (num_px, num_px, 3) where 3 is for the 3 channels (RGB). Thus, each image is square (height = num_px) and (width = num_px)."
      ]
    },
    {
      "cell_type": "markdown",
      "metadata": {
        "collapsed": true,
        "id": "v_4eUry-Ig-_"
      },
      "source": [
        "You will build a simple image-recognition algorithm that can correctly classify pictures as cat or non-cat."
      ]
    },
    {
      "cell_type": "markdown",
      "metadata": {
        "collapsed": true,
        "id": "qDqlmpnVIg_B"
      },
      "source": [
        "Let's get more familiar with the dataset. Load the data by running the following code. **Before running the command, download `train_catvnoncat.h5` and `test_catvnoncat.h5` and upload them using the following cell**."
      ]
    },
    {
      "cell_type": "code",
      "metadata": {
        "id": "uZBsyaeSKYJ_"
      },
      "source": [
        "# use this cell to upload lrutils and the train/test files\r\n",
        "from google.colab import files\r\n",
        "uploaded = files.upload()"
      ],
      "execution_count": null,
      "outputs": []
    },
    {
      "cell_type": "code",
      "metadata": {
        "id": "do2tX20zIg_B"
      },
      "source": [
        "# Loading the data (cat/non-cat)\n",
        "train_set_x_orig, train_set_y, test_set_x_orig, test_set_y, classes = load_dataset()"
      ],
      "execution_count": null,
      "outputs": []
    },
    {
      "cell_type": "markdown",
      "metadata": {
        "id": "UeAwgqoFIg_D"
      },
      "source": [
        "We added the suffix `orig` at the end of image datasets (train and test) because we are going to preprocess them. After preprocessing, we will end up with `train_set_x` and `test_set_x` (the targets `train_set_y` and `test_set_y` don't need any preprocessing)."
      ]
    },
    {
      "cell_type": "markdown",
      "metadata": {
        "id": "SPIWLbjGIg_D"
      },
      "source": [
        "Each line of your `train_set_x_orig` and `test_set_x_orig` is an array representing an image. You can visualise an example by running the following code. Feel free also to change the `index` value and re-run to see other images. "
      ]
    },
    {
      "cell_type": "code",
      "metadata": {
        "id": "iSYVCwUIIg_E"
      },
      "source": [
        "# Example of a picture\n",
        "index = 206\n",
        "plt.imshow(train_set_x_orig[index])\n",
        "print (\"y = \" + str(train_set_y[:, index]) + \", it's a '\" + classes[np.squeeze(train_set_y[:, index])].decode(\"utf-8\") +  \"' picture.\")"
      ],
      "execution_count": null,
      "outputs": []
    },
    {
      "cell_type": "markdown",
      "metadata": {
        "id": "NzO_rMFTIg_G"
      },
      "source": [
        "As you train more models, you will see that the majority of deep learning errors/bugs come from having matrix/vector dimensions that don't fit. If you can keep your matrix/vector dimensions straight you will go a long way toward eliminating many bugs. "
      ]
    },
    {
      "cell_type": "markdown",
      "metadata": {
        "id": "jyQPRnUUIg_H"
      },
      "source": [
        "**Exercise:** Find the values for:\n",
        "    - m_train (number of training examples)\n",
        "    - m_test (number of test examples)\n",
        "    - num_px (= height = width of a training image)\n",
        "Remember that `train_set_x_orig` is a numpy-array of shape (m_train, num_px, num_px, 3). For instance, you can access `m_train` by writing `train_set_x_orig.shape[0]`."
      ]
    },
    {
      "cell_type": "code",
      "metadata": {
        "scrolled": true,
        "id": "Tfm28GtzIg_I"
      },
      "source": [
        "## Use this cell to find the dimension of your data\n",
        "\n",
        "### START CODE HERE ### (lines of code)\n",
        "\n",
        "\n",
        "\n",
        "### END CODE HERE ###\n",
        "\n",
        "print (\"Number of training examples: m_train = \" + str(m_train))\n",
        "print (\"Number of testing examples: m_test = \" + str(m_test))\n",
        "print (\"Height/Width of each image: num_px = \" + str(num_px))\n",
        "print (\"Each image is of size: (\" + str(num_px) + \", \" + str(num_px) + \", 3)\")\n",
        "print (\"train_set_x shape: \" + str(train_set_x_orig.shape))\n",
        "print (\"train_set_y shape: \" + str(train_set_y.shape))\n",
        "print (\"test_set_x shape: \" + str(test_set_x_orig.shape))\n",
        "print (\"test_set_y shape: \" + str(test_set_y.shape))"
      ],
      "execution_count": null,
      "outputs": []
    },
    {
      "cell_type": "markdown",
      "metadata": {
        "id": "0ZFoNepTIg_J"
      },
      "source": [
        "**Expected Output**: \n",
        "\n",
        "    m_train= 209 \n",
        "    m_test = 50 \n",
        "    num_px=  64"
      ]
    },
    {
      "cell_type": "markdown",
      "metadata": {
        "id": "8ntNOIvNIg_J"
      },
      "source": [
        "**Exercise:** Reshape the training and test sets so that images of size (num_px, num_px, 3) are flattened into single vectors of shape (num\\_px $*$ num\\_px $*$ 3, 1)."
      ]
    },
    {
      "cell_type": "markdown",
      "metadata": {
        "id": "OMRTtcj_Ig_K"
      },
      "source": [
        "**Hint**: Instead of using the `np.flatten()` function, try to use the `np.reshape()` function and then transpose the result, for instance, `X_flatten = X.reshape(X.shape[0], -1).T`"
      ]
    },
    {
      "cell_type": "code",
      "metadata": {
        "id": "n0c7wc53Ig_L"
      },
      "source": [
        "## Use this cell to reshape the training and test examples\n",
        "\n",
        "### START CODE HERE ### (2 lines of code)\n",
        "\n",
        "\n",
        "### END CODE HERE ###\n",
        "\n",
        "print (\"train_set_x_flatten shape: \" + str(train_set_x_flatten.shape))\n",
        "print (\"train_set_y shape: \" + str(train_set_y.shape))\n",
        "print (\"test_set_x_flatten shape: \" + str(test_set_x_flatten.shape))\n",
        "print (\"test_set_y shape: \" + str(test_set_y.shape))\n",
        "print (\"sanity check after reshaping: \" + str(train_set_x_flatten[0:5,0]))"
      ],
      "execution_count": null,
      "outputs": []
    },
    {
      "cell_type": "markdown",
      "metadata": {
        "id": "GRov5TtzIg_N"
      },
      "source": [
        "**Expected Output**: \n",
        "\n",
        "<table style=\"width:35%\">\n",
        "  <tr>\n",
        "    <td>**train_set_x_flatten shape**</td>\n",
        "    <td> (12288, 209)</td> \n",
        "  </tr>\n",
        "  <tr>\n",
        "    <td>**train_set_y shape**</td>\n",
        "    <td>(1, 209)</td> \n",
        "  </tr>\n",
        "  <tr>\n",
        "    <td>**test_set_x_flatten shape**</td>\n",
        "    <td>(12288, 50)</td> \n",
        "  </tr>\n",
        "  <tr>\n",
        "    <td>**test_set_y shape**</td>\n",
        "    <td>(1, 50)</td> \n",
        "  </tr>\n",
        "  <tr>\n",
        "  <td>**sanity check after reshaping**</td>\n",
        "  <td>[17 31 56 22 33]</td> \n",
        "  </tr>\n",
        "</table>"
      ]
    },
    {
      "cell_type": "markdown",
      "metadata": {
        "id": "zfUcnVv6Ig_N"
      },
      "source": [
        "Then, normalise the dataset as we have seen in previous lectures/labs:"
      ]
    },
    {
      "cell_type": "code",
      "metadata": {
        "id": "5Z6kyGdHIg_N"
      },
      "source": [
        "## Use this cell to normalise the training and test examples\n",
        "\n",
        "### START CODE HERE ### (2 lines of code)\n",
        "\n",
        "\n",
        "### END CODE HERE ###"
      ],
      "execution_count": null,
      "outputs": []
    },
    {
      "cell_type": "markdown",
      "metadata": {
        "id": "uVhN3UGnIg_O"
      },
      "source": [
        "## General Architecture of the Learning Algorithm"
      ]
    },
    {
      "cell_type": "markdown",
      "metadata": {
        "id": "438z-s3BIg_O"
      },
      "source": [
        "Now, you will build a Logistic Regression, using a Neural Network mindset. In fact, **Logistic Regression is actually a very simple Neural Network!**"
      ]
    },
    {
      "cell_type": "markdown",
      "metadata": {
        "id": "W4pOUj2gIg_O"
      },
      "source": [
        "**Keep in mind the mathematical expression of the algorithm**:"
      ]
    },
    {
      "cell_type": "markdown",
      "metadata": {
        "id": "9CvPUshIIg_Q"
      },
      "source": [
        "For one example $x^{(i)}$:\n",
        "$$z^{(i)} = w^T x^{(i)} + b$$\n",
        "$$\\hat{y}^{(i)} = a^{(i)} = sigmoid(z^{(i)})$$ \n",
        "$$ \\mathcal{L}(a^{(i)}, y^{(i)}) =  - y^{(i)}  \\log(a^{(i)}) - (1-y^{(i)} )  \\log(1-a^{(i)})$$"
      ]
    },
    {
      "cell_type": "markdown",
      "metadata": {
        "id": "2izi7Yb4Ig_R"
      },
      "source": [
        "The cost is then computed by summing over all training examples:\n",
        "$$ J = \\frac{1}{m} \\sum_{i=1}^m \\mathcal{L}(a^{(i)}, y^{(i)})$$"
      ]
    },
    {
      "cell_type": "markdown",
      "metadata": {
        "id": "xl1U5CjlIg_S"
      },
      "source": [
        "**Key steps**:"
      ]
    },
    {
      "cell_type": "markdown",
      "metadata": {
        "id": "oYgnZRshIg_T"
      },
      "source": [
        "In this exercise, you will carry out the following steps: \n",
        "    - Initialise the parameters of the model\n",
        "    - Learn the parameters for the model by minimising the cost  \n",
        "    - Use the learned parameters to make predictions (on the test set)\n",
        "    - Analyse the results and conclude"
      ]
    },
    {
      "cell_type": "markdown",
      "metadata": {
        "id": "26QluFPqIg_T"
      },
      "source": [
        "### Initialising parameters\n",
        "\n",
        "**Exercise:** Implement parameter initialization in the cell below. You have to initialize `w` as a vector of zeros and `b` as zero. If you don't know what numpy function to use, look up `np.zeros()`."
      ]
    },
    {
      "cell_type": "code",
      "metadata": {
        "id": "d8XBBvn4Ig_T"
      },
      "source": [
        "## Use this cell to build a function that initialises the weights and bias as a vector of zeros\n",
        "\n",
        "def initialise_with_zeros(dim):\n",
        "    \"\"\"\n",
        "    This function creates a vector of zeros of shape (dim, 1) for w and initializes b to 0.\n",
        "    \n",
        "    Input:\n",
        "    dim: size of the w vector we want (or number of parameters in this case)\n",
        "    \n",
        "    Output:\n",
        "    w: vector of shape (dim, 1)\n",
        "    b: zero\n",
        "    \"\"\"\n",
        "    \n",
        "    ### START CODE HERE ### (2 line of code)\n",
        "\n",
        "    \n",
        "    ### END CODE HERE ###\n",
        "    \n",
        "    \n",
        "    return w, b"
      ],
      "execution_count": null,
      "outputs": []
    },
    {
      "cell_type": "markdown",
      "metadata": {
        "id": "uXwjeI7NIg_U"
      },
      "source": [
        "Now, run your function with `dim=2`."
      ]
    },
    {
      "cell_type": "code",
      "metadata": {
        "id": "3V3C_yArIg_V"
      },
      "source": [
        "dim = 2\n",
        "w, b = initialise_with_zeros(dim)\n",
        "print (\"w = \" + str(w))\n",
        "print (\"b = \" + str(b))"
      ],
      "execution_count": null,
      "outputs": []
    },
    {
      "cell_type": "markdown",
      "metadata": {
        "id": "K6yuMH5dIg_V"
      },
      "source": [
        "**Expected Output**: w=[[0.][0.]], b =0"
      ]
    },
    {
      "cell_type": "markdown",
      "metadata": {
        "id": "5EmopfkEIg_X"
      },
      "source": [
        "### Forward and Backward Propagation"
      ]
    },
    {
      "cell_type": "markdown",
      "metadata": {
        "id": "VDURXPItIg_X"
      },
      "source": [
        "Now that your parameters are initialised, you can do the \"forward\" and \"backward\" propagation steps for learning the parameters."
      ]
    },
    {
      "cell_type": "markdown",
      "metadata": {
        "id": "eeS4SWPtIg_X"
      },
      "source": [
        "Here are the two formulas you will be using: \n",
        "\n",
        "\n",
        "$$ \\frac{\\partial J}{\\partial w} = \\frac{1}{m}X(A-Y)^T$$\n",
        "$$ \\frac{\\partial J}{\\partial b} = \\frac{1}{m} \\sum_{i=1}^m (a^{(i)}-y^{(i)})$$"
      ]
    },
    {
      "cell_type": "markdown",
      "metadata": {
        "id": "F8azm9WhIg_X"
      },
      "source": [
        "**Exercise:** Implement a function `propagate()` that computes the cost function and its gradient."
      ]
    },
    {
      "cell_type": "markdown",
      "metadata": {
        "id": "gs4oDIjcIg_Y"
      },
      "source": [
        "**Hints**:\n",
        "\n",
        "Forward Propagation:\n",
        "- Compute $A = \\sigma(w^T X + b) = (a^{(1)}, a^{(2)}, ..., a^{(m-1)}, a^{(m)})$\n",
        "- Calculate the cost function: $J = -\\frac{1}{m}\\sum_{i=1}^{m}y^{(i)}\\log(a^{(i)})+(1-y^{(i)})\\log(1-a^{(i)})$"
      ]
    },
    {
      "cell_type": "code",
      "metadata": {
        "id": "YEIHd7hTIg_Y"
      },
      "source": [
        "## Use this cell to define your propagate function\n",
        "\n",
        "def propagate(w, b, X, Y):\n",
        "    \"\"\"\n",
        "    Implement the cost function and its gradient for the propagation explained above\n",
        "\n",
        "    Inputs:\n",
        "    w: weights, a numpy array of size (num_px * num_px * 3, 1)\n",
        "    b: bias, a scalar\n",
        "    X: data of size (num_px * num_px * 3, number of examples)\n",
        "    Y: true \"label\" vector (containing 0 if non-cat, 1 if cat) of size (1, number of examples)\n",
        "\n",
        "    Outputs:\n",
        "    cost: Negative log-likelihood cost for logistic regression\n",
        "    dw: Gradient of the loss with respect to w, thus same shape as w\n",
        "    db: Gradient of the loss with respect to b, thus same shape as b\n",
        "    ** These two last values will be put into a dictionary called grads\n",
        "    \n",
        "    Tips: Write your code step by step for the propagation, use functions np.log() and np.dot()\n",
        "    \"\"\"\n",
        "    \n",
        "    m = X.shape[1] # this gives you the number of samples\n",
        "    \n",
        "    # FORWARD PROPAGATION (FROM X TO COST)\n",
        "    ### START CODE HERE ### (2 lines of code)\n",
        "    # compute sigmoid function\n",
        "\n",
        "    # compute cost\n",
        "\n",
        "    ### END CODE HERE ###\n",
        "    \n",
        "    # BACKWARD PROPAGATION (TO FIND GRAD)\n",
        "    ### START CODE HERE ### (2 lines of code)\n",
        "\n",
        "    \n",
        "    ### END CODE HERE ###\n",
        "\n",
        "    \n",
        "    # Finally, store dw and db in a dictionary called grads\n",
        "    grads = {\"dw\": dw,\n",
        "             \"db\": db}\n",
        "    \n",
        "    return grads, cost"
      ],
      "execution_count": null,
      "outputs": []
    },
    {
      "cell_type": "markdown",
      "metadata": {
        "id": "Lml1vaMmIg_Z"
      },
      "source": [
        "Let's test the function!"
      ]
    },
    {
      "cell_type": "code",
      "metadata": {
        "id": "PtrLpArMIg_a"
      },
      "source": [
        "w = np.array([[1.],[2.]]) \n",
        "b = 2.0\n",
        "X =  np.array([[1.,2.,-1.],[3.,4.,-3.2]])\n",
        "Y = np.array([[1,0,1]])\n",
        "grads, cost = propagate(w, b, X, Y)\n",
        "print (\"dw = \" + str(grads[\"dw\"]))\n",
        "print (\"db = \" + str(grads[\"db\"]))\n",
        "print (\"cost = \" + str(cost))"
      ],
      "execution_count": null,
      "outputs": []
    },
    {
      "cell_type": "markdown",
      "metadata": {
        "id": "5Hwe30ONIg_b"
      },
      "source": [
        "**Expected Output**:\n",
        "\n",
        "<table style=\"width:50%\">\n",
        "    <tr>\n",
        "        <td>  ** dw **  </td>\n",
        "      <td> [[ 0.99845601]\n",
        "     [ 2.39507239]]</td>\n",
        "    </tr>\n",
        "    <tr>\n",
        "        <td>  ** db **  </td>\n",
        "        <td> 0.00145557813678 </td>\n",
        "    </tr>\n",
        "    <tr>\n",
        "        <td>  ** cost **  </td>\n",
        "        <td> 5.801545319394553 </td>\n",
        "    </tr>\n",
        "\n",
        "</table>"
      ]
    },
    {
      "cell_type": "markdown",
      "metadata": {
        "id": "cUdqvY_VIg_c"
      },
      "source": [
        "### Optimisation"
      ]
    },
    {
      "cell_type": "markdown",
      "metadata": {
        "id": "9A9ZaQ8nIg_c"
      },
      "source": [
        "- You have initialized your parameters.\n",
        "- You are also able to compute a cost function and its gradient.\n",
        "- Now, you want to update the parameters using gradient descent."
      ]
    },
    {
      "cell_type": "markdown",
      "metadata": {
        "id": "LnU7HqEgIg_d"
      },
      "source": [
        "There is an additional step that we can use called optimisation. Its goal is to learn $w$ and $b$ by minimizing the cost function $J$. For a parameter $\\theta$, the update rule is $ \\theta = \\theta - \\alpha \\text{ } d\\theta$, where $\\alpha$ is the learning rate."
      ]
    },
    {
      "cell_type": "code",
      "metadata": {
        "id": "MLcDSa8pIg_d"
      },
      "source": [
        "## Optimisation function\n",
        "\n",
        "def optimise(w, b, X, Y, num_iterations, learning_rate, print_cost = False):\n",
        "    \"\"\"\n",
        "    This function optimises w and b by running a gradient descent algorithm\n",
        "    \n",
        "    Inputs:\n",
        "    w: Weights\n",
        "    b: Bias\n",
        "    X: Flattened/Normalised dataset\n",
        "    Y: Target\n",
        "    num_iterations: Number of iterations of the optimization loop\n",
        "    learning_rate: Learning rate of the gradient descent update rule\n",
        "    print_cost: A flag value, if TRUE iy prints the loss every 100 steps\n",
        "    \n",
        "    Outputs:\n",
        "    params: Dictionary containing weights and bias\n",
        "    grads: dw and db\n",
        "    costs: List of all the costs computed during the optimisation, this will be used to plot the learning curve.\n",
        "    \n",
        "    Tips:\n",
        "    You basically need to write down two steps and iterate through them:\n",
        "        1) Calculate the cost and the gradient for the current parameters. Use propagate().\n",
        "        2) Update the parameters using gradient descent rule for w and b.\n",
        "    \"\"\"\n",
        "    \n",
        "    # Start with an empty costs list\n",
        "    costs = []\n",
        "    \n",
        "    for i in range(num_iterations):\n",
        "        \n",
        "        \n",
        "        # Cost and gradient calculation (1 line of code)\n",
        "        ### START CODE HERE ### \n",
        "\n",
        "        ### END CODE HERE ###\n",
        "        \n",
        "        # Retrieve derivatives from grads\n",
        "        dw = grads[\"dw\"]\n",
        "        db = grads[\"db\"]\n",
        "        \n",
        "        # update rule (2 lines of code)\n",
        "        ### START CODE HERE ###\n",
        "\n",
        "        \n",
        "        ### END CODE HERE ###\n",
        "        \n",
        "        # Record the costs\n",
        "        if i % 100 == 0:\n",
        "            costs.append(cost)\n",
        "        \n",
        "        # Print the cost every 100 training iterations\n",
        "        if print_cost and i % 100 == 0:\n",
        "            print (\"Cost after iteration %i: %f\" %(i, cost))\n",
        "    \n",
        "    params = {\"w\": w,\n",
        "              \"b\": b}\n",
        "    \n",
        "    grads = {\"dw\": dw,\n",
        "             \"db\": db}\n",
        "    \n",
        "    return params, grads, costs"
      ],
      "execution_count": null,
      "outputs": []
    },
    {
      "cell_type": "markdown",
      "metadata": {
        "id": "fnqtKk2nIg_e"
      },
      "source": [
        "Run the function to see how it works!"
      ]
    },
    {
      "cell_type": "code",
      "metadata": {
        "id": "7F5jg2s6Ig_e"
      },
      "source": [
        "params, grads, costs = optimise(w, b, X, Y, num_iterations= 100, learning_rate = 0.009, print_cost = False)\n",
        "\n",
        "print (\"w = \" + str(params[\"w\"]))\n",
        "print (\"b = \" + str(params[\"b\"]))\n",
        "print (\"dw = \" + str(grads[\"dw\"]))\n",
        "print (\"db = \" + str(grads[\"db\"]))"
      ],
      "execution_count": null,
      "outputs": []
    },
    {
      "cell_type": "markdown",
      "metadata": {
        "id": "Phf4avVwIg_e"
      },
      "source": [
        "**Expected Output**: \n",
        "\n",
        "w = [[0.19033591]\n",
        " [0.12259159]]\n",
        "b = 1.9253598300845747\n",
        "dw = [[0.67752042]\n",
        " [1.41625495]]\n",
        "db = 0.21919450454067652\n"
      ]
    },
    {
      "cell_type": "markdown",
      "metadata": {
        "id": "TGMW-7--Ig_e"
      },
      "source": [
        "### Prediction"
      ]
    },
    {
      "cell_type": "markdown",
      "metadata": {
        "id": "bLtcdHDsIg_f"
      },
      "source": [
        "The previous function will output the learned $w$ and $b$. We are able to use these values to predict the labels for a dataset $X$. "
      ]
    },
    {
      "cell_type": "markdown",
      "metadata": {
        "id": "ppx0FajzIg_g"
      },
      "source": [
        "Implement the `predict()` function. There are two steps to computing predictions:\n",
        "\n",
        "1. Calculate $\\hat{Y} = A = \\sigma(w^T X + b)$\n",
        "2. Convert the entries of a into 0 (if activation <= 0.5) or 1 (if activation > 0.5), stores the predictions in a vector `Y_prediction`. If you wish, you can use an `if`/`else` statement in a `for` loop, although there is also a way to vectorise this). "
      ]
    },
    {
      "cell_type": "code",
      "metadata": {
        "id": "VjXlRD9YIg_g"
      },
      "source": [
        "## Use this cell to implement the predict function\n",
        "\n",
        "def predict(w, b, X):\n",
        "    '''\n",
        "    Predict whether the label is 0 or 1 using learned logistic regression parameters (w, b)\n",
        "    \n",
        "    Inputs:\n",
        "    w\n",
        "    b\n",
        "    X\n",
        "    \n",
        "    Output:\n",
        "    Y_prediction: A numpy array (vector) containing all predictions (0/1) for the examples in X\n",
        "    '''\n",
        "    \n",
        "    m = X.shape[1]\n",
        "    Y_prediction = np.zeros((1,m))\n",
        "    w = w.reshape(X.shape[0], 1)\n",
        "    \n",
        "    # Compute vector \"A\" predicting the probabilities of a cat being present in the picture\n",
        "    ### START CODE HERE ### (1 line of code)\n",
        "\n",
        "    ### END CODE HERE ###\n",
        "    \n",
        "    ## The non-vectorised way\n",
        "    \n",
        "    for i in range(A.shape[1]):\n",
        "        \n",
        "        # Convert probabilities A[0,i] to actual predictions p[0,i]\n",
        "        ### START CODE HERE ### (4 lines of code)\n",
        "\n",
        "        \n",
        "        \n",
        "        \n",
        "        ### END CODE HERE ###\n",
        "    \n",
        "    assert(Y_prediction.shape == (1, m))\n",
        "    \n",
        "    return Y_prediction"
      ],
      "execution_count": null,
      "outputs": []
    },
    {
      "cell_type": "markdown",
      "metadata": {
        "id": "xFtLNXtDIg_i"
      },
      "source": [
        "Now run the function with some artificial data:"
      ]
    },
    {
      "cell_type": "code",
      "metadata": {
        "id": "5yQbiiecIg_j"
      },
      "source": [
        "w = np.array([[0.1124579],[0.23106775]])\n",
        "b = -0.3\n",
        "X = np.array([[1.,-1.1,-3.2],[1.2,2.,0.1]])\n",
        "print (\"predictions = \" + str(predict(w, b, X)))"
      ],
      "execution_count": null,
      "outputs": []
    },
    {
      "cell_type": "markdown",
      "metadata": {
        "id": "qHhbV5aWIg_j"
      },
      "source": [
        "**Expected Output**: [[ 1.  1.  0.]]\n"
      ]
    },
    {
      "cell_type": "markdown",
      "metadata": {
        "id": "2DoFh5rXIg_j"
      },
      "source": [
        "## Merge all functions into a model"
      ]
    },
    {
      "cell_type": "markdown",
      "metadata": {
        "id": "xtAYMt59Ig_k"
      },
      "source": [
        "You will now see how the overall model is structured by putting together all the building blocks (functions implemented in the previous parts) together, in the right order."
      ]
    },
    {
      "cell_type": "markdown",
      "metadata": {
        "id": "f8-k1L1KIg_l"
      },
      "source": [
        "**Exercise:** Implement the model function. Use the following notation:\n",
        "    - Y_prediction_test for your predictions on the test set\n",
        "    - Y_prediction_train for your predictions on the train set\n",
        "    - w, costs, grads for the outputs of optimize()"
      ]
    },
    {
      "cell_type": "code",
      "metadata": {
        "id": "6S1D2vv1Ig_m"
      },
      "source": [
        "## Use this cell to build the whole odel into a function\n",
        "\n",
        "def model(X_train, Y_train, X_test, Y_test, num_iterations, learning_rate, print_cost):\n",
        "    \"\"\"\n",
        "    Builds the logistic regression model by calling the function you've implemented previously\n",
        "    \n",
        "    Input:\n",
        "    X_train: Training set represented by a numpy array of shape (num_px * num_px * 3, m_train)\n",
        "    Y_train: Training labels represented by a numpy array (vector) of shape (1, m_train)\n",
        "    X_test: Test set represented by a numpy array of shape (num_px * num_px * 3, m_test)\n",
        "    Y_test: Test labels represented by a numpy array (vector) of shape (1, m_test)\n",
        "    num_iterations: Hyperparameter representing the number of iterations to optimize the parameters\n",
        "    learning_rate: Hyperparameter representing the learning rate used in the update rule of optimize()\n",
        "    print_cost: Set to true to print the cost every 100 iterations\n",
        "    \n",
        "    Output:\n",
        "    d: Dictionary containing information about the model.\n",
        "    \"\"\"\n",
        "    \n",
        "    ### START CODE HERE ###\n",
        "    \n",
        "    # initialise parameters with zeros (1 line of code)\n",
        "\n",
        "    # Optimised gradient descent (1 line of code)\n",
        "    \n",
        "    # Retrieve parameters w and b from dictionary \"parameters\"\n",
        "    w = parameters[\"w\"]\n",
        "    b = parameters[\"b\"]\n",
        "    \n",
        "    # Predict BOTH the train and the test set examples (2 lines of code)\n",
        "\n",
        "    \n",
        "    ### END CODE HERE ###\n",
        "\n",
        "    # Print train/test Errors\n",
        "    print(\"train accuracy: {} %\".format(100 - np.mean(np.abs(Y_prediction_train - Y_train)) * 100))\n",
        "    print(\"test accuracy: {} %\".format(100 - np.mean(np.abs(Y_prediction_test - Y_test)) * 100))\n",
        "\n",
        "    # Create the dictionary with the results\n",
        "    d = {\"costs\": costs,\n",
        "         \"Y_prediction_test\": Y_prediction_test, \n",
        "         \"Y_prediction_train\" : Y_prediction_train, \n",
        "         \"w\" : w, \n",
        "         \"b\" : b,\n",
        "         \"learning_rate\" : learning_rate,\n",
        "         \"num_iterations\": num_iterations}\n",
        "    \n",
        "    return d"
      ],
      "execution_count": null,
      "outputs": []
    },
    {
      "cell_type": "markdown",
      "metadata": {
        "id": "aV2WqA_MIg_o"
      },
      "source": [
        "Run the following cell to train your model."
      ]
    },
    {
      "cell_type": "code",
      "metadata": {
        "id": "7KddgiIgIg_p"
      },
      "source": [
        "d = model(train_set_x, train_set_y, test_set_x, test_set_y, num_iterations = 2000, learning_rate = 0.005, print_cost = True)"
      ],
      "execution_count": null,
      "outputs": []
    },
    {
      "cell_type": "markdown",
      "metadata": {
        "collapsed": true,
        "id": "UsxRIXvGIg_q"
      },
      "source": [
        "You should get a series of cost values printed, and in the end the accuracy of classifying the training and the test data!"
      ]
    },
    {
      "cell_type": "markdown",
      "metadata": {
        "collapsed": true,
        "id": "p-IIi_NrIg_q"
      },
      "source": [
        "Notice the following:\n",
        "1. Training accuracy is close to 100%. This is a good sanity check: your model is working and has high enough capacity to fit the training data. \n",
        "2. Test error is 68%. It is actually not bad for this simple model, given the small dataset we used and that logistic regression is a linear classifier. But no worries, we'll build a better classifier next week!\n",
        "3. Notice that the model is clearly `overfitting` the training data. **Do you have any idea(s) to reduce overfitting?**"
      ]
    },
    {
      "cell_type": "markdown",
      "metadata": {
        "id": "iYsUrhHgIg_t"
      },
      "source": [
        "Answer:"
      ]
    },
    {
      "cell_type": "markdown",
      "metadata": {
        "id": "d6qCby0HIg_v"
      },
      "source": [
        "Let's plot the cost function and the gradients to understand a little bit more our NN:"
      ]
    },
    {
      "cell_type": "code",
      "metadata": {
        "id": "LwNvq1cNIg_w"
      },
      "source": [
        "# Plot learning curve (with costs)\n",
        "costs = np.squeeze(d['costs'])\n",
        "plt.plot(costs)\n",
        "plt.ylabel('cost')\n",
        "plt.xlabel('iterations (per hundreds)')\n",
        "plt.title(\"Learning rate =\" + str(d[\"learning_rate\"]))\n",
        "plt.show()"
      ],
      "execution_count": null,
      "outputs": []
    },
    {
      "cell_type": "markdown",
      "metadata": {
        "collapsed": true,
        "id": "xyyo-yi2Ig_w"
      },
      "source": [
        "You can see the cost **decreasing**. This shows that the parameters are being learned, however, you will see that you could train the model even more of the training set. If you increase the number of iterations `num_iterations=5000`, you might see that the training set accuracy goes up, but the test set accuracy goes down. This means that your model is overfitting even more! "
      ]
    },
    {
      "cell_type": "code",
      "metadata": {
        "id": "SvfMAyssIg_x"
      },
      "source": [
        "d = model(train_set_x, train_set_y, test_set_x, test_set_y, num_iterations = 5000, learning_rate = 0.005, print_cost = True)"
      ],
      "execution_count": null,
      "outputs": []
    },
    {
      "cell_type": "markdown",
      "metadata": {
        "id": "a4mSd8JwIg_x"
      },
      "source": [
        "## Further analysis"
      ]
    },
    {
      "cell_type": "markdown",
      "metadata": {
        "id": "qr1bO87NIg_z"
      },
      "source": [
        "Let's analyse the NN further, and examine possible choices for the learning rate $\\alpha$. "
      ]
    },
    {
      "cell_type": "markdown",
      "metadata": {
        "id": "cyvUxOm-Ig_z"
      },
      "source": [
        "### Choosing the learning rate"
      ]
    },
    {
      "cell_type": "markdown",
      "metadata": {
        "id": "U3iMTghYIg_0"
      },
      "source": [
        "In order for Gradient Descent to work you must choose the learning rate wisely. The learning rate $\\alpha$  determines how rapidly we update the parameters. If the learning rate is too large we may \"overshoot\" the optimal value. Similarly, if it is too small we will need too many iterations to converge to the best values. That's why it is crucial to use a well-tuned learning rate."
      ]
    },
    {
      "cell_type": "markdown",
      "metadata": {
        "id": "vOyDrkOMIg_1"
      },
      "source": [
        "Let's compare the learning curve of our model with several choices of learning rates. Run the cell below. This should take about 1 minute. Feel free also to try different values than the three we have initialized the `learning_rates` variable to contain, and see what happens. "
      ]
    },
    {
      "cell_type": "code",
      "metadata": {
        "id": "UTf346IhIg_1"
      },
      "source": [
        "learning_rates = [0.01, 0.001, 0.0001]\n",
        "models = {}\n",
        "for i in learning_rates:\n",
        "    print (\"learning rate: \" + str(i))\n",
        "    models[str(i)] = model(train_set_x, train_set_y, test_set_x, test_set_y, num_iterations = 1500, learning_rate = i, print_cost = False)\n",
        "    print ('\\n' + \"-------------------------------------------------------\" + '\\n')\n",
        "\n",
        "for i in learning_rates:\n",
        "    plt.plot(np.squeeze(models[str(i)][\"costs\"]), label= str(models[str(i)][\"learning_rate\"]))\n",
        "\n",
        "plt.ylabel('cost')\n",
        "plt.xlabel('iterations (hundreds)')\n",
        "\n",
        "legend = plt.legend(loc='upper center', shadow=True)\n",
        "frame = legend.get_frame()\n",
        "frame.set_facecolor('0.90')\n",
        "plt.show()"
      ],
      "execution_count": null,
      "outputs": []
    },
    {
      "cell_type": "markdown",
      "metadata": {
        "id": "JTvyI_GaIg_2"
      },
      "source": [
        "**Interpretation**: \n",
        "- Different learning rates give different costs and thus different prediction results.\n",
        "- If the learning rate is too large (0.01), the cost may oscillate up and down. It may even diverge (though in this example, using 0.01 still eventually ends up at a good value for the cost). \n",
        "- A lower cost doesn't mean a better model. You have to check if there is possibly overfitting. It happens when the training accuracy is a lot higher than the test accuracy.\n",
        "- In deep learning, it is recommended to: \n",
        "    - Choose the learning rate that better minimises the cost function.\n",
        "    - If your model overfits, use other techniques to reduce overfitting."
      ]
    },
    {
      "cell_type": "markdown",
      "metadata": {
        "collapsed": true,
        "id": "Bpk0B9zgIg_2"
      },
      "source": [
        "## Testing your own images in the NN"
      ]
    },
    {
      "cell_type": "markdown",
      "metadata": {
        "collapsed": true,
        "id": "AzL4PHRoIg_3"
      },
      "source": [
        "You can use your own images and see the output of the model. To do that:\n",
        "   1. Load the image into the notebook using numpy\n",
        "   2. Run the code and check if the algorithm is right (1 = cat, 0 = non-cat)"
      ]
    },
    {
      "cell_type": "code",
      "metadata": {
        "id": "JQ691Kp5N_aM"
      },
      "source": [
        "# Use this cell to upload the images\r\n",
        "from google.colab import files\r\n",
        "uploaded = files.upload()"
      ],
      "execution_count": null,
      "outputs": []
    },
    {
      "cell_type": "code",
      "metadata": {
        "scrolled": false,
        "id": "9HKezzATIg_4"
      },
      "source": [
        "# import open cv\n",
        "import cv2\n",
        "\n",
        "# Preprocessing the image to fit into the algorithm.\n",
        "img = cv2.imread('') # put the name of your image\n",
        "plt.imshow(img)\n",
        "res = np.resize(img,(num_px,num_px,3))\n",
        "flattrans = res.reshape((1, num_px*num_px*3)).T\n",
        "\n",
        "# Predict the label\n",
        "my_predicted_image = predict(d[\"w\"], d[\"b\"], flattrans)\n",
        "\n",
        "print(\"y = \" + str(np.squeeze(my_predicted_image)) + \", your algorithm predicts that this is a \\\"\" + classes[int(np.squeeze(my_predicted_image)),].decode(\"utf-8\") +  \"\\\" picture\")"
      ],
      "execution_count": null,
      "outputs": []
    },
    {
      "cell_type": "markdown",
      "metadata": {
        "id": "nBmuQn_-Ig_5"
      },
      "source": [
        "## Bonus"
      ]
    },
    {
      "cell_type": "markdown",
      "metadata": {
        "id": "4dXcGvS2Ig_5"
      },
      "source": [
        "    - Play with the learning rate and the number of iterations\n",
        "    - Try different w/b initialisation methods and compare the results\n",
        "    - Test other image preprocessing techniques (center the data, or divide each row by its standard deviation)"
      ]
    },
    {
      "cell_type": "markdown",
      "metadata": {
        "id": "PP7WcsAJIg_6"
      },
      "source": [
        "## Bibliography"
      ]
    },
    {
      "cell_type": "markdown",
      "metadata": {
        "id": "K_U8dhlHIg_6"
      },
      "source": [
        "- [Deep Learning Specialization by Andrew NG (Coursera)](https://es.coursera.org/specializations/deep-learning)\n",
        "- http://www.wildml.com/2015/09/implementing-a-neural-network-from-scratch/\n",
        "- https://stats.stackexchange.com/questions/211436/why-do-we-normalize-images-by-subtracting-the-datasets-image-mean-and-not-the-c"
      ]
    }
  ]
}